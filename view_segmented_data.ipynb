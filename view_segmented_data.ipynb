{
 "cells": [
  {
   "cell_type": "code",
   "execution_count": 15,
   "metadata": {},
   "outputs": [
    {
     "name": "stdout",
     "output_type": "stream",
     "text": [
      "{'size': 9, 'mean': 13.0, 'median': 13.0, 'std_dev': 2.581988897471611, 'min': 9.0, 'max': 17.0, 'histogram': ([1, 0, 1, 0, 0, 1, 0, 1, 0, 0, 1, 0, 1, 0, 0, 1, 0, 1, 0, 1], [9.0, 9.4, 9.8, 10.2, 10.6, 11.0, 11.4, 11.8, 12.2, 12.6, 13.0, 13.4, 13.8, 14.2, 14.600000000000001, 15.0, 15.4, 15.8, 16.2, 16.6, 17.0])}\n"
     ]
    }
   ],
   "source": [
    "import numpy as np\n",
    "import matplotlib.pyplot as plt\n",
    "\n",
    "data = np.load('test.npy', allow_pickle=True).item()\n",
    "\n",
    "mask = data['mask'] * 1.0\n",
    "indices = data['indices']\n",
    "values = data['values']\n",
    "statistics = data['statistics']\n",
    "\n",
    "print(statistics)\n",
    "\n",
    "#plt.imshow(mask, cmap='gray')\n",
    "#plt.show()\n",
    "\n"
   ]
  },
  {
   "cell_type": "code",
   "execution_count": 16,
   "metadata": {},
   "outputs": [
    {
     "name": "stdout",
     "output_type": "stream",
     "text": [
      "[0 1 2 3 4 5 6 7]\n",
      "(2, 2, 2)\n",
      "[ 0  1  2  3  4  5  6  7  8  9 10 11 12 13 14 15 16 17 18 19 20 21 22 23\n",
      " 24 25 26]\n",
      "(3, 3, 3)\n",
      "[ 0  1  2  3  4  5  6  7  8  9 10 11 12 13 14 15 16 17 18 19 20 21 22 23\n",
      " 24 25 26 27 28 29 30 31]\n",
      "(2, 4, 4)\n",
      "[ 0  1  2  3  4  5  6  7  8  9 10 11 12 13 14 15 16 17 18 19 20 21 22 23]\n",
      "(2, 3, 4)\n"
     ]
    }
   ],
   "source": [
    "import numpy as np\n",
    "import matplotlib.pyplot as plt\n",
    "\n",
    "data = np.array(range(2**3))\n",
    "print(data)\n",
    "data = data.reshape((2,2,2))\n",
    "print(np.shape(data))\n",
    "np.save('2x2.npy', data)\n",
    "\n",
    "data = np.array(range(3**3))\n",
    "print(data)\n",
    "data = data.reshape((3,3,3))\n",
    "print(np.shape(data))\n",
    "np.save('3x3.npy', data)\n",
    "\n",
    "data = np.array(range(2*4*4))\n",
    "print(data)\n",
    "data = data.reshape((2,4,4))\n",
    "print(np.shape(data))\n",
    "np.save('2x4x4.npy', data)\n",
    "\n",
    "data = np.array(range(2*3*4))\n",
    "print(data)\n",
    "data = data.reshape((2,3,4))\n",
    "print(np.shape(data))\n",
    "np.save('2x3x4.npy', data)"
   ]
  }
 ],
 "metadata": {
  "kernelspec": {
   "display_name": "visualcoder",
   "language": "python",
   "name": "python3"
  },
  "language_info": {
   "codemirror_mode": {
    "name": "ipython",
    "version": 3
   },
   "file_extension": ".py",
   "mimetype": "text/x-python",
   "name": "python",
   "nbconvert_exporter": "python",
   "pygments_lexer": "ipython3",
   "version": "3.11.5"
  }
 },
 "nbformat": 4,
 "nbformat_minor": 2
}
